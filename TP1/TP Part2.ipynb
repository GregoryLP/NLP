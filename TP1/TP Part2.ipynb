{
 "cells": [
  {
   "cell_type": "markdown",
   "id": "a71633a0",
   "metadata": {},
   "source": [
    "## PARTIE 1"
   ]
  },
  {
   "cell_type": "markdown",
   "id": "3bccfbd4",
   "metadata": {},
   "source": [
    "Exercice 1 :\n",
    "\n",
    "Écrivez un programme Python pour supprimer les parenthèses dans une chaîne de caractères.\n",
    "\n",
    "Exercice 2 :\n",
    "\n",
    "Écrivez un programme Python pour trouver l'occurrence et la position des sous-chaînes dans une chaîne..\n",
    "\n",
    "Exercice 3 :\n",
    "\n",
    "Écrivez un programme Python pour rechercher les nombres (0-9) de longueur comprise entre 1 et 3 dans une chaîne donnée.\n",
    "\n",
    "Exercice 4  :\n",
    "\n",
    "Écrivez un programme Python pour supprimer les zéros non significatifs d'une adresse IP.\n",
    "\n",
    "Exercice 5  :\n",
    "\n",
    "Écrivez un programme Python pour vérifier un nombre est décimale ou non avec une précision de 3."
   ]
  },
  {
   "cell_type": "code",
   "execution_count": 2,
   "id": "761a9833",
   "metadata": {},
   "outputs": [
    {
     "name": "stdout",
     "output_type": "stream",
     "text": [
      "Bonjour tout le monde\n"
     ]
    }
   ],
   "source": [
    "#Exercice 1 :\n",
    "import re\n",
    "chaine = \"Bonjour (tout le monde)\"\n",
    "chainesansparenthese = re.sub(r'\\(|\\)', \"\", chaine)\n",
    "print(chainesansparenthese)"
   ]
  },
  {
   "cell_type": "code",
   "execution_count": 3,
   "id": "e4447b4e",
   "metadata": {},
   "outputs": [
    {
     "name": "stdout",
     "output_type": "stream",
     "text": [
      "[8, 23, 38]\n"
     ]
    }
   ],
   "source": [
    "#exercice 2\n",
    "chaine = \"Bonjour tout le monde, tout est beau, tout va bien\"\n",
    "sousChaine = \"tout\"\n",
    "position = []\n",
    "for i in range(len(chaine)):\n",
    "    if chaine[i:i+len(sousChaine)] == sousChaine:\n",
    "        position.append(i)\n",
    "print(position)\n"
   ]
  },
  {
   "cell_type": "code",
   "execution_count": 4,
   "id": "46b1d2e5",
   "metadata": {},
   "outputs": [
    {
     "name": "stdout",
     "output_type": "stream",
     "text": [
      "['3', '1']\n"
     ]
    }
   ],
   "source": [
    "#Exercice 3\n",
    "chaine = \"Bonjour je m'appelle C3P1\"\n",
    "regex = r\"([0-9]+)\"\n",
    "resultat = re.findall(regex, chaine) \n",
    "print(resultat)"
   ]
  },
  {
   "cell_type": "code",
   "execution_count": 5,
   "id": "15e40aa9",
   "metadata": {},
   "outputs": [
    {
     "name": "stdout",
     "output_type": "stream",
     "text": [
      "192.1.1.2\n"
     ]
    }
   ],
   "source": [
    "#Exercice 4\n",
    "adresse_ip = \"192.010.001.002\"\n",
    "#supprimer les 0 inutile\n",
    "adresseIP = re.sub(r'0+', \"\", adresse_ip)\n",
    "print(adresseIP)\n"
   ]
  },
  {
   "cell_type": "code",
   "execution_count": 6,
   "id": "dccda814",
   "metadata": {},
   "outputs": [
    {
     "name": "stdout",
     "output_type": "stream",
     "text": [
      "True\n",
      "True\n",
      "False\n"
     ]
    }
   ],
   "source": [
    "#Exercice 5\n",
    "def estDecimal(nombre):\n",
    "    motif_decimal = re.compile(r\"^[0-9]+(\\.[0-9]+)?$\")\n",
    "    if motif_decimal.match(str(nombre)):\n",
    "        return True\n",
    "    else:\n",
    "        return False\n",
    "\n",
    "nomnbreDecimal = \"123.453\"\n",
    "nbrDecimal2 = 7.89\n",
    "nbrDecimal3 = \"abc\"\n",
    "\n",
    "print(estDecimal(nomnbreDecimal))\n",
    "print(estDecimal(nbrDecimal2))\n",
    "print(estDecimal(nbrDecimal3))"
   ]
  },
  {
   "cell_type": "markdown",
   "id": "9d35bd3f",
   "metadata": {},
   "source": [
    "## PARTIE 2"
   ]
  },
  {
   "cell_type": "markdown",
   "id": "f1ea388f",
   "metadata": {},
   "source": [
    "a) Vérifiez si les chaînes données contiennent 0xB0. Affichez un résultat booléen comme indiqué ci-dessous."
   ]
  },
  {
   "cell_type": "code",
   "execution_count": 7,
   "id": "0d8c408c",
   "metadata": {},
   "outputs": [
    {
     "name": "stdout",
     "output_type": "stream",
     "text": [
      "False\n",
      "True\n"
     ]
    }
   ],
   "source": [
    "line1 = 'start address: 0xA0, func1 address: 0xC0'\n",
    "line2 = 'end address: 0xFF, func2 address: 0xB0'\n",
    "\n",
    "print(bool(re.search(r'0xB0', line1)))     ##### add your solution here\n",
    "\n",
    "print(bool(re.search(r'0xB0', line2)))     ##### add your solution here"
   ]
  },
  {
   "cell_type": "markdown",
   "id": "9b4aa5be",
   "metadata": {},
   "source": [
    "b)Remplacer toutes les occurrences de 5 par cinq pour la chaîne donnée"
   ]
  },
  {
   "cell_type": "code",
   "execution_count": 8,
   "id": "b406d2e3",
   "metadata": {},
   "outputs": [
    {
     "name": "stdout",
     "output_type": "stream",
     "text": [
      "They ate cinq apples and cinq oranges\n"
     ]
    }
   ],
   "source": [
    "ip = 'They ate 5 apples and 5 oranges'\n",
    "\n",
    "print(re.sub(r'5', \"cinq\", ip))        ##### add your solution here"
   ]
  },
  {
   "cell_type": "markdown",
   "id": "d0e1d375",
   "metadata": {},
   "source": [
    "c) Pour la liste donnée, filtrez tous les éléments qui ne contiennent pas e."
   ]
  },
  {
   "cell_type": "code",
   "execution_count": 14,
   "id": "6a7099c5",
   "metadata": {},
   "outputs": [
    {
     "name": "stdout",
     "output_type": "stream",
     "text": [
      "['goal', 'sit']\n"
     ]
    }
   ],
   "source": [
    "items = ['goal', 'new', 'user', 'sit', 'eat', 'dinner']\n",
    "\n",
    "##### add your solution here\n",
    "resultat = list(filter(lambda element: 'e' not in element, items))\n",
    "print(resultat)\n"
   ]
  },
  {
   "cell_type": "markdown",
   "id": "33f2f68a",
   "metadata": {},
   "source": [
    "d) Pour la liste donnée, filtrez tous les éléments qui contiennent à la fois e et n."
   ]
  },
  {
   "cell_type": "code",
   "execution_count": 15,
   "id": "44818110",
   "metadata": {},
   "outputs": [
    {
     "name": "stdout",
     "output_type": "stream",
     "text": [
      "['new', 'dinner']\n"
     ]
    }
   ],
   "source": [
    "items = ['goal', 'new', 'user', 'sit', 'eat', 'dinner']\n",
    "\n",
    "##### add your solution here\n",
    "resultat = list(filter(lambda element: 'e' in element and 'n' in element, items))\n",
    "print(resultat)"
   ]
  },
  {
   "cell_type": "code",
   "execution_count": null,
   "id": "d6d7fa26",
   "metadata": {},
   "outputs": [],
   "source": []
  }
 ],
 "metadata": {
  "kernelspec": {
   "display_name": "Python 3 (ipykernel)",
   "language": "python",
   "name": "python3"
  },
  "language_info": {
   "codemirror_mode": {
    "name": "ipython",
    "version": 3
   },
   "file_extension": ".py",
   "mimetype": "text/x-python",
   "name": "python",
   "nbconvert_exporter": "python",
   "pygments_lexer": "ipython3",
   "version": "3.10.7"
  }
 },
 "nbformat": 4,
 "nbformat_minor": 5
}
